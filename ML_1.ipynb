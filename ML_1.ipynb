{
  "nbformat": 4,
  "nbformat_minor": 0,
  "metadata": {
    "colab": {
      "provenance": [],
      "authorship_tag": "ABX9TyOE5pMzASU7t6zk6gIcH8tN",
      "include_colab_link": true
    },
    "kernelspec": {
      "name": "python3",
      "display_name": "Python 3"
    },
    "language_info": {
      "name": "python"
    }
  },
  "cells": [
    {
      "cell_type": "markdown",
      "metadata": {
        "id": "view-in-github",
        "colab_type": "text"
      },
      "source": [
        "<a href=\"https://colab.research.google.com/github/HumayraFahreri/PembelajaranMesin-HumayraFahreri-2211533019/blob/main/ML_1.ipynb\" target=\"_parent\"><img src=\"https://colab.research.google.com/assets/colab-badge.svg\" alt=\"Open In Colab\"/></a>"
      ]
    },
    {
      "cell_type": "code",
      "execution_count": 2,
      "metadata": {
        "colab": {
          "base_uri": "https://localhost:8080/",
          "height": 106
        },
        "id": "mmME-uqd8rnR",
        "outputId": "0d2d7b96-3966-4b9d-ff7d-acc8ffce3433"
      },
      "outputs": [
        {
          "output_type": "error",
          "ename": "SyntaxError",
          "evalue": "invalid syntax (<ipython-input-2-02d3d3ede96c>, line 8)",
          "traceback": [
            "\u001b[0;36m  File \u001b[0;32m\"<ipython-input-2-02d3d3ede96c>\"\u001b[0;36m, line \u001b[0;32m8\u001b[0m\n\u001b[0;31m    import seaborn as sns, sns.set(font_scale=1.2)\u001b[0m\n\u001b[0m                                  ^\u001b[0m\n\u001b[0;31mSyntaxError\u001b[0m\u001b[0;31m:\u001b[0m invalid syntax\n"
          ]
        }
      ],
      "source": [
        "# import utk analisis\n",
        "import pandas as pd\n",
        "import numpy as np\n",
        "from sklearn import svm\n",
        "\n",
        "# package utk visuals\n",
        "import matplotlib.pylot as plt\n",
        "import seaborn as sns, sns.set(font_scale=1.2)\n",
        "\n",
        "# tampilkan chart\n",
        "%matplotlib inline\n",
        "\n",
        "# package pickle\n",
        "import pickle"
      ]
    }
  ]
}